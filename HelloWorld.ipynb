{
 "cells": [
  {
   "cell_type": "code",
   "execution_count": 5,
   "metadata": {},
   "outputs": [
    {
     "name": "stdout",
     "output_type": "stream",
     "text": [
      "Requirement already satisfied: sagemaker in /home/esantiago/anaconda3/lib/python3.7/site-packages (2.96.0)\n",
      "Requirement already satisfied: attrs==20.3.0 in /home/esantiago/anaconda3/lib/python3.7/site-packages (from sagemaker) (20.3.0)\n",
      "Requirement already satisfied: protobuf<4.0,>=3.1 in /home/esantiago/anaconda3/lib/python3.7/site-packages (from sagemaker) (3.20.1)\n",
      "Requirement already satisfied: importlib-metadata<5.0,>=1.4.0 in /home/esantiago/anaconda3/lib/python3.7/site-packages (from sagemaker) (1.5.0)\n",
      "Requirement already satisfied: pandas in /home/esantiago/anaconda3/lib/python3.7/site-packages (from sagemaker) (1.0.1)\n",
      "Requirement already satisfied: pathos in /home/esantiago/anaconda3/lib/python3.7/site-packages (from sagemaker) (0.2.9)\n",
      "Requirement already satisfied: google-pasta in /home/esantiago/anaconda3/lib/python3.7/site-packages (from sagemaker) (0.2.0)\n",
      "Requirement already satisfied: boto3<2.0,>=1.20.21 in /home/esantiago/anaconda3/lib/python3.7/site-packages (from sagemaker) (1.24.15)\n",
      "Requirement already satisfied: protobuf3-to-dict<1.0,>=0.1.5 in /home/esantiago/anaconda3/lib/python3.7/site-packages (from sagemaker) (0.1.5)\n",
      "Requirement already satisfied: smdebug-rulesconfig==1.0.1 in /home/esantiago/anaconda3/lib/python3.7/site-packages (from sagemaker) (1.0.1)\n",
      "Requirement already satisfied: numpy<2.0,>=1.9.0 in /home/esantiago/anaconda3/lib/python3.7/site-packages (from sagemaker) (1.18.1)\n",
      "Requirement already satisfied: packaging>=20.0 in /home/esantiago/anaconda3/lib/python3.7/site-packages (from sagemaker) (20.1)\n",
      "Requirement already satisfied: zipp>=0.5 in /home/esantiago/anaconda3/lib/python3.7/site-packages (from importlib-metadata<5.0,>=1.4.0->sagemaker) (2.2.0)\n",
      "Requirement already satisfied: pytz>=2017.2 in /home/esantiago/anaconda3/lib/python3.7/site-packages (from pandas->sagemaker) (2019.3)\n",
      "Requirement already satisfied: python-dateutil>=2.6.1 in /home/esantiago/anaconda3/lib/python3.7/site-packages (from pandas->sagemaker) (2.8.1)\n",
      "Requirement already satisfied: multiprocess>=0.70.13 in /home/esantiago/anaconda3/lib/python3.7/site-packages (from pathos->sagemaker) (0.70.13)\n",
      "Requirement already satisfied: pox>=0.3.1 in /home/esantiago/anaconda3/lib/python3.7/site-packages (from pathos->sagemaker) (0.3.1)\n",
      "Requirement already satisfied: ppft>=1.7.6.5 in /home/esantiago/anaconda3/lib/python3.7/site-packages (from pathos->sagemaker) (1.7.6.5)\n",
      "Requirement already satisfied: dill>=0.3.5.1 in /home/esantiago/anaconda3/lib/python3.7/site-packages (from pathos->sagemaker) (0.3.5.1)\n",
      "Requirement already satisfied: six in /home/esantiago/anaconda3/lib/python3.7/site-packages (from google-pasta->sagemaker) (1.14.0)\n",
      "Requirement already satisfied: s3transfer<0.7.0,>=0.6.0 in /home/esantiago/anaconda3/lib/python3.7/site-packages (from boto3<2.0,>=1.20.21->sagemaker) (0.6.0)\n",
      "Requirement already satisfied: jmespath<2.0.0,>=0.7.1 in /home/esantiago/anaconda3/lib/python3.7/site-packages (from boto3<2.0,>=1.20.21->sagemaker) (1.0.1)\n",
      "Requirement already satisfied: botocore<1.28.0,>=1.27.15 in /home/esantiago/anaconda3/lib/python3.7/site-packages (from boto3<2.0,>=1.20.21->sagemaker) (1.27.15)\n",
      "Requirement already satisfied: pyparsing>=2.0.2 in /home/esantiago/anaconda3/lib/python3.7/site-packages (from packaging>=20.0->sagemaker) (2.4.6)\n",
      "Requirement already satisfied: urllib3<1.27,>=1.25.4 in /home/esantiago/anaconda3/lib/python3.7/site-packages (from botocore<1.28.0,>=1.27.15->boto3<2.0,>=1.20.21->sagemaker) (1.25.8)\n"
     ]
    }
   ],
   "source": [
    "!pip install sagemaker"
   ]
  },
  {
   "cell_type": "code",
   "execution_count": 2,
   "metadata": {},
   "outputs": [
    {
     "data": {
      "text/plain": [
       "2"
      ]
     },
     "execution_count": 2,
     "metadata": {},
     "output_type": "execute_result"
    }
   ],
   "source": [
    "1+1"
   ]
  },
  {
   "cell_type": "code",
   "execution_count": 3,
   "metadata": {},
   "outputs": [
    {
     "name": "stdout",
     "output_type": "stream",
     "text": [
      "2\n"
     ]
    }
   ],
   "source": [
    "print(1+1)"
   ]
  },
  {
   "cell_type": "code",
   "execution_count": 4,
   "metadata": {},
   "outputs": [],
   "source": [
    "var = 5"
   ]
  },
  {
   "cell_type": "code",
   "execution_count": 5,
   "metadata": {},
   "outputs": [
    {
     "data": {
      "text/plain": [
       "5"
      ]
     },
     "execution_count": 5,
     "metadata": {},
     "output_type": "execute_result"
    }
   ],
   "source": [
    "var"
   ]
  },
  {
   "cell_type": "markdown",
   "metadata": {},
   "source": [
    "$x=\\frac{1}{7}$"
   ]
  },
  {
   "cell_type": "code",
   "execution_count": 8,
   "metadata": {},
   "outputs": [
    {
     "data": {
      "text/plain": [
       "8"
      ]
     },
     "execution_count": 8,
     "metadata": {},
     "output_type": "execute_result"
    }
   ],
   "source": [
    "2**3"
   ]
  },
  {
   "cell_type": "code",
   "execution_count": null,
   "metadata": {},
   "outputs": [],
   "source": []
  },
  {
   "cell_type": "code",
   "execution_count": null,
   "metadata": {},
   "outputs": [],
   "source": []
  }
 ],
 "metadata": {
  "kernelspec": {
   "display_name": "Python 3",
   "language": "python",
   "name": "python3"
  },
  "language_info": {
   "codemirror_mode": {
    "name": "ipython",
    "version": 3
   },
   "file_extension": ".py",
   "mimetype": "text/x-python",
   "name": "python",
   "nbconvert_exporter": "python",
   "pygments_lexer": "ipython3",
   "version": "3.7.6"
  }
 },
 "nbformat": 4,
 "nbformat_minor": 4
}
