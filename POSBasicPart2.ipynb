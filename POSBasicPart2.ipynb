{
 "cells": [
  {
   "cell_type": "code",
   "execution_count": 6,
   "id": "2e6d51e0",
   "metadata": {},
   "outputs": [],
   "source": [
    "import spacy\n",
    "nlp = spacy.load('en_core_web_sm')"
   ]
  },
  {
   "cell_type": "code",
   "execution_count": 20,
   "id": "c4edd11e",
   "metadata": {},
   "outputs": [],
   "source": [
    "doc = nlp('This is a beatiful sentence to test the amazing nlp library')"
   ]
  },
  {
   "cell_type": "code",
   "execution_count": 60,
   "id": "c59ab302",
   "metadata": {},
   "outputs": [
    {
     "name": "stdout",
     "output_type": "stream",
     "text": [
      "PRON\n",
      "AUX\n",
      "DET\n",
      "ADJ\n",
      "NOUN\n",
      "PART\n",
      "VERB\n",
      "DET\n",
      "ADJ\n",
      "PROPN\n",
      "NOUN\n"
     ]
    },
    {
     "data": {
      "text/plain": [
       "[sentence, library]"
      ]
     },
     "execution_count": 60,
     "metadata": {},
     "output_type": "execute_result"
    }
   ],
   "source": [
    "nouns = []\n",
    "for token in doc:\n",
    "    if(token.pos_== 'NOUN'):\n",
    "        nouns.append(token)\n",
    "    print(token.pos_)\n",
    "nouns"
   ]
  },
  {
   "cell_type": "code",
   "execution_count": 65,
   "id": "760dc9fa",
   "metadata": {},
   "outputs": [
    {
     "name": "stdout",
     "output_type": "stream",
     "text": [
      "{95: 1, 87: 1, 90: 2, 84: 2, 92: 2, 94: 1, 100: 1, 96: 1}\n"
     ]
    }
   ],
   "source": [
    "c=doc.count_by(spacy.attrs.POS)\n",
    "print(c)\n"
   ]
  },
  {
   "cell_type": "code",
   "execution_count": 19,
   "id": "f2577204",
   "metadata": {},
   "outputs": [
    {
     "name": "stdout",
     "output_type": "stream",
     "text": [
      "95 \t 1\n",
      "87 \t 1\n",
      "90 \t 2\n",
      "84 \t 1\n",
      "92 \t 1\n",
      "94 \t 1\n",
      "100 \t 1\n",
      "96 \t 2\n"
     ]
    }
   ],
   "source": [
    "#for k,v in c.items():\n",
    "#    print(f'{k} \\t {v}')"
   ]
  },
  {
   "cell_type": "code",
   "execution_count": 47,
   "id": "c575123e",
   "metadata": {},
   "outputs": [
    {
     "data": {
      "text/plain": [
       "spacy.tokens.doc.Doc"
      ]
     },
     "execution_count": 47,
     "metadata": {},
     "output_type": "execute_result"
    }
   ],
   "source": [
    "#type(doc)"
   ]
  },
  {
   "cell_type": "code",
   "execution_count": null,
   "id": "c5e1c3ee",
   "metadata": {},
   "outputs": [],
   "source": []
  }
 ],
 "metadata": {
  "kernelspec": {
   "display_name": "Python 3 (ipykernel)",
   "language": "python",
   "name": "python3"
  },
  "language_info": {
   "codemirror_mode": {
    "name": "ipython",
    "version": 3
   },
   "file_extension": ".py",
   "mimetype": "text/x-python",
   "name": "python",
   "nbconvert_exporter": "python",
   "pygments_lexer": "ipython3",
   "version": "3.9.12"
  }
 },
 "nbformat": 4,
 "nbformat_minor": 5
}
